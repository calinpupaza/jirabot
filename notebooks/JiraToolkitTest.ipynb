{
 "cells": [
  {
   "cell_type": "code",
   "execution_count": null,
   "id": "3c7dcd9a-e9e9-482a-81dd-fc11bcf84a8b",
   "metadata": {},
   "outputs": [],
   "source": [
    "import os\n",
    "from dotenv import load_dotenv\n",
    "\n",
    "from langchain.agents import AgentType, initialize_agent\n",
    "from langchain_community.agent_toolkits.jira.toolkit import JiraToolkit\n",
    "from langchain_community.utilities.jira import JiraAPIWrapper\n",
    "from langchain_openai import OpenAI\n"
   ]
  },
  {
   "cell_type": "code",
   "execution_count": null,
   "id": "e7170f64-b3ea-4520-b564-b4b72fef015a",
   "metadata": {},
   "outputs": [],
   "source": [
    "load_dotenv()\n"
   ]
  },
  {
   "cell_type": "code",
   "execution_count": null,
   "id": "c6785c72-5b86-464a-b306-f3b29770ec48",
   "metadata": {},
   "outputs": [],
   "source": [
    "llm = OpenAI(temperature=0)\n",
    "jira = JiraAPIWrapper()\n",
    "toolkit = JiraToolkit.from_jira_api_wrapper(jira)\n",
    "agent = initialize_agent(\n",
    "    toolkit.get_tools(), llm, agent=AgentType.ZERO_SHOT_REACT_DESCRIPTION, verbose=False\n",
    ")\n"
   ]
  },
  {
   "cell_type": "code",
   "execution_count": null,
   "id": "7514e8ab-2bc2-4aa3-9732-714c0b4bb65c",
   "metadata": {},
   "outputs": [],
   "source": [
    "# import requests\n",
    "# import logging\n",
    "\n",
    "# # These two lines enable debugging at httplib level (requests->urllib3->http.client)\n",
    "# # You will see the REQUEST, including HEADERS and DATA, and RESPONSE with HEADERS but without DATA.\n",
    "# # The only thing missing will be the response.body which is not logged.\n",
    "# try:\n",
    "#     import http.client as http_client\n",
    "# except ImportError:\n",
    "#     # Python 2\n",
    "#     import httplib as http_client\n",
    "# http_client.HTTPConnection.debuglevel = 1\n",
    "\n",
    "# # You must initialize logging, otherwise you'll not see debug output.\n",
    "# logging.basicConfig()\n",
    "# logging.getLogger().setLevel(logging.ERROR)\n",
    "# requests_log = logging.getLogger(\"requests.packages.urllib3\")\n",
    "# requests_log.setLevel(logging.ERROR)\n",
    "# requests_log.propagate = False\n"
   ]
  },
  {
   "cell_type": "code",
   "execution_count": null,
   "id": "62c75e6e-4adc-4e95-a7c9-a048e3b86b44",
   "metadata": {},
   "outputs": [],
   "source": [
    "agent.run(\"run a query to get all issues in project Test\")\n"
   ]
  },
  {
   "cell_type": "code",
   "execution_count": null,
   "id": "86fdc605-f3a6-453b-8eaf-aa42d87f9793",
   "metadata": {},
   "outputs": [],
   "source": [
    "agent.run(\"list all projects\")\n"
   ]
  },
  {
   "cell_type": "code",
   "execution_count": null,
   "id": "58ba302f-831e-4851-b976-7469c2440f82",
   "metadata": {},
   "outputs": [],
   "source": [
    "agent.run(\" create a new issue in the project TEST to remind me to find sample data for a new blank Jeera project\")\n"
   ]
  },
  {
   "cell_type": "code",
   "execution_count": null,
   "id": "cdb9c59c-8d01-4e47-a4d4-a6706fbddbf5",
   "metadata": {},
   "outputs": [],
   "source": [
    "agent.run(\"show all issues in project TEST that are Done\")\n"
   ]
  },
  {
   "cell_type": "code",
   "execution_count": null,
   "id": "c623e8ed-33ed-47df-b06e-7dcffb4d293a",
   "metadata": {},
   "outputs": [],
   "source": [
    "agent.run(\"assign issue TEST-1 to user calinpupaza@gmail.com\")\n"
   ]
  },
  {
   "cell_type": "code",
   "execution_count": null,
   "id": "c972b816",
   "metadata": {},
   "outputs": [],
   "source": [
    "# agent.run(\"create epic Deploy as API in project JIR\")\n",
    "# agent.run(\"delete issue JIR-2\")\n",
    "# agent.run(\"create epic configure Slack bot in project JIR\")\n",
    "# agent.run(\"create epic Improve output to Slack in project JIR\")\n",
    "# agent.run(\"create epic Improve Jira toolkit in project JIR\")\n",
    "# agent.run(\"delete issue JIR-6\")\n",
    "agent.run(\"create issue Improve error handling in project JIR. Make a child of epic JIR-5\")\n"
   ]
  },
  {
   "cell_type": "code",
   "execution_count": null,
   "id": "575358dc",
   "metadata": {},
   "outputs": [],
   "source": []
  }
 ],
 "metadata": {
  "kernelspec": {
   "display_name": "Python 3 (ipykernel)",
   "language": "python",
   "name": "python3"
  },
  "language_info": {
   "codemirror_mode": {
    "name": "ipython",
    "version": 3
   },
   "file_extension": ".py",
   "mimetype": "text/x-python",
   "name": "python",
   "nbconvert_exporter": "python",
   "pygments_lexer": "ipython3",
   "version": "3.11.6"
  }
 },
 "nbformat": 4,
 "nbformat_minor": 5
}
